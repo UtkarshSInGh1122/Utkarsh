{
 "cells": [
  {
   "cell_type": "markdown",
   "metadata": {},
   "source": [
    "#Take input A and B and print their sum, mul, div, square of the nos."
   ]
  },
  {
   "cell_type": "code",
   "execution_count": 6,
   "metadata": {},
   "outputs": [
    {
     "name": "stdout",
     "output_type": "stream",
     "text": [
      "Sum of A+b : 129\n"
     ]
    }
   ],
   "source": [
    "A = int(input(\"A\"))\n",
    "B = int(input(\"B\"))\n",
    "print(f\"Sum of A+b : {A+B}\")\n"
   ]
  },
  {
   "cell_type": "code",
   "execution_count": 5,
   "metadata": {},
   "outputs": [
    {
     "name": "stdout",
     "output_type": "stream",
     "text": [
      "I arrived in tine False\n"
     ]
    }
   ],
   "source": [
    "I_will_go_to_the_bottom_of_the_park = 3\n",
    "I_will_arrive_there_at = 2\n",
    "I_arrived_in_time = I_will_go_to_the_bottom_of_the_park < I_will_arrive_there_at\n",
    "print(f\"I arrived in tine {I_arrived_in_time}\")"
   ]
  },
  {
   "cell_type": "code",
   "execution_count": 4,
   "metadata": {},
   "outputs": [
    {
     "name": "stdout",
     "output_type": "stream",
     "text": [
      "\n",
      "I live in : dd\n",
      "My name is : dd\n"
     ]
    }
   ],
   "source": [
    "Name = input(\"ddd\")\n",
    "Place = input(\"place\")\n",
    "print(f\"\"\"\n",
    "I live in : {Place}\n",
    "My name is : {Name}\"\"\")\n"
   ]
  },
  {
   "cell_type": "markdown",
   "metadata": {},
   "source": [
    "Sum = int(input(\"Sum\"))\n",
    "Sum2 = int(input(\"Sum2\"))\n",
    "print(f\"{type(Sum)} , {type(Sum2)}\")\n",
    "print(f\"the sum of  Sum + Sum2 : {Sum + Sum2}\")"
   ]
  },
  {
   "cell_type": "code",
   "execution_count": 24,
   "metadata": {},
   "outputs": [
    {
     "name": "stdout",
     "output_type": "stream",
     "text": [
      "who is big : False\n"
     ]
    }
   ],
   "source": [
    "greater = 58\n",
    "lower = 58\n",
    "big = greater < lower\n",
    "print(f\"who is big : {big}\")"
   ]
  },
  {
   "cell_type": "code",
   "execution_count": null,
   "metadata": {},
   "outputs": [],
   "source": []
  },
  {
   "cell_type": "markdown",
   "metadata": {},
   "source": [
    "#58.8 to interg\n",
    "a = 58.8\n",
    "print(f\"type of a before : {type(a)}\")\n",
    "a = int(a)\n",
    "print(f\"type of a after : {type(a)} \")"
   ]
  },
  {
   "cell_type": "code",
   "execution_count": 4,
   "metadata": {},
   "outputs": [],
   "source": [
    "first_name = input(\"name\")\n",
    "last_name = input(\"name\")\n",
    "print(f\"{first_name}{last_name}@gamil.com\")\n"
   ]
  }
 ],
 "metadata": {
  "kernelspec": {
   "display_name": "Python 3.8.13 ('env1')",
   "language": "python",
   "name": "python3"
  },
  "language_info": {
   "codemirror_mode": {
    "name": "ipython",
    "version": 3
   },
   "file_extension": ".py",
   "mimetype": "text/x-python",
   "name": "python",
   "nbconvert_exporter": "python",
   "pygments_lexer": "ipython3",
   "version": "3.8.13"
  },
  "orig_nbformat": 4,
  "vscode": {
   "interpreter": {
    "hash": "dc0a9df1605d9b7eaf722bd2ef7f216413f2d47673b08271e0461cced1237d49"
   }
  }
 },
 "nbformat": 4,
 "nbformat_minor": 2
}
