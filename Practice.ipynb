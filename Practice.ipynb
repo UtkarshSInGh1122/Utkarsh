{
 "cells": [
  {
   "cell_type": "markdown",
   "metadata": {},
   "source": [
    "#Take input A and B and print their sum, mul, div, square of the nos."
   ]
  },
  {
   "cell_type": "code",
   "execution_count": 6,
   "metadata": {},
   "outputs": [
    {
     "name": "stdout",
     "output_type": "stream",
     "text": [
      "Sum of A+b : 129\n"
     ]
    }
   ],
   "source": [
    "A = int(input(\"A\"))\n",
    "B = int(input(\"B\"))\n",
    "print(f\"Sum of A+b : {A+B}\")\n"
   ]
  }
 ],
 "metadata": {
  "kernelspec": {
   "display_name": "Python 3.8.13 ('env1')",
   "language": "python",
   "name": "python3"
  },
  "language_info": {
   "codemirror_mode": {
    "name": "ipython",
    "version": 3
   },
   "file_extension": ".py",
   "mimetype": "text/x-python",
   "name": "python",
   "nbconvert_exporter": "python",
   "pygments_lexer": "ipython3",
   "version": "3.8.13"
  },
  "orig_nbformat": 4,
  "vscode": {
   "interpreter": {
    "hash": "dc0a9df1605d9b7eaf722bd2ef7f216413f2d47673b08271e0461cced1237d49"
   }
  }
 },
 "nbformat": 4,
 "nbformat_minor": 2
}
